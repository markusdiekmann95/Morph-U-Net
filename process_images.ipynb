{
  "nbformat": 4,
  "nbformat_minor": 0,
  "metadata": {
    "colab": {
      "name": "process_images.ipynb",
      "provenance": [],
      "authorship_tag": "ABX9TyN09W/SaFZXR1E5avznIsvv",
      "include_colab_link": true
    },
    "kernelspec": {
      "name": "python3",
      "display_name": "Python 3"
    },
    "language_info": {
      "name": "python"
    }
  },
  "cells": [
    {
      "cell_type": "markdown",
      "metadata": {
        "id": "view-in-github",
        "colab_type": "text"
      },
      "source": [
        "<a href=\"https://colab.research.google.com/github/markusdiekmann95/Morph-U-Net/blob/main/process_images.ipynb\" target=\"_parent\"><img src=\"https://colab.research.google.com/assets/colab-badge.svg\" alt=\"Open In Colab\"/></a>"
      ]
    },
    {
      "cell_type": "markdown",
      "source": [
        "This notebook aims to prepare the images for the modeling. The origin images are 5000x5000. They will be processed into multiple 500x500 images."
      ],
      "metadata": {
        "id": "5-b_RBm8W3Ja"
      }
    },
    {
      "cell_type": "code",
      "execution_count": null,
      "metadata": {
        "id": "Qe98JwpHUYVV"
      },
      "outputs": [],
      "source": [
        "import numpy as np\n",
        "from glob import glob\n",
        "from PIL import Image"
      ]
    },
    {
      "cell_type": "code",
      "source": [
        "from google.colab import drive\n",
        "drive.mount('/content/drive')"
      ],
      "metadata": {
        "colab": {
          "base_uri": "https://localhost:8080/"
        },
        "id": "_aWzXFWCUbUv",
        "outputId": "f67717f9-d65f-48c2-c98a-2d3a27ca8eee"
      },
      "execution_count": null,
      "outputs": [
        {
          "output_type": "stream",
          "name": "stdout",
          "text": [
            "Mounted at /content/drive\n"
          ]
        }
      ]
    },
    {
      "cell_type": "code",
      "source": [
        "path = '/content/drive/MyDrive/Colab Notebooks/Inria/Data'\n",
        "img_path = path + '/img'\n",
        "gt_path = path + '/gt'"
      ],
      "metadata": {
        "id": "GDWv_WmgUdx2"
      },
      "execution_count": null,
      "outputs": []
    },
    {
      "cell_type": "code",
      "source": [
        "image_list = []\n",
        "for filename in glob(img_path + '/*.tif'): #assuming gif\n",
        "    im=Image.open(filename)\n",
        "    image_list.append(im)"
      ],
      "metadata": {
        "id": "i432TE8aU5GF"
      },
      "execution_count": null,
      "outputs": []
    },
    {
      "cell_type": "code",
      "source": [
        "gt_list = []\n",
        "for filename in glob(gt_path + '/*.tif'): #assuming gif\n",
        "    im=Image.open(filename)\n",
        "    gt_list.append(im)"
      ],
      "metadata": {
        "id": "5ZZpbwH-VNJl"
      },
      "execution_count": null,
      "outputs": []
    },
    {
      "cell_type": "code",
      "source": [
        "from PIL import Image\n",
        "from itertools import product\n",
        "\n",
        "def tile(filename, dir_out, d, slice):\n",
        "\n",
        "    img = Image.open(filename)\n",
        "    w, h = img.size\n",
        "    \n",
        "    grid = product(range(0, h-h%d, d), range(0, w-w%d, d))\n",
        "    for i, j in grid:\n",
        "        box = (j, i, j+d, i+d)\n",
        "        out = dir_out + filename[slice:].replace(\".tif\",\"\") + str(i) + str(j) + \".tif\"\n",
        "        img.crop(box).save(out)"
      ],
      "metadata": {
        "id": "gxU9dXkceY9n"
      },
      "execution_count": null,
      "outputs": []
    },
    {
      "cell_type": "code",
      "source": [
        "for filename in glob(gt_path + '/*.tif'):\n",
        "  tile(filename, \"/content/drive/MyDrive/Colab Notebooks/Inria/Prep_Data/gt\", 500, 52)"
      ],
      "metadata": {
        "id": "_954bRrqfKMt"
      },
      "execution_count": null,
      "outputs": []
    },
    {
      "cell_type": "code",
      "source": [
        "for filename in glob(img_path + '/*.tif'):\n",
        "  tile(filename, \"/content/drive/MyDrive/Colab Notebooks/Inria/Prep_Data/img\", 500, 53)"
      ],
      "metadata": {
        "id": "gqCM7GcDiYQe"
      },
      "execution_count": null,
      "outputs": []
    },
    {
      "cell_type": "code",
      "source": [
        "gt_path"
      ],
      "metadata": {
        "colab": {
          "base_uri": "https://localhost:8080/",
          "height": 36
        },
        "id": "aEHpneqPbGqA",
        "outputId": "4372bec6-33bf-4db0-84ca-5fc7be896622"
      },
      "execution_count": null,
      "outputs": [
        {
          "output_type": "execute_result",
          "data": {
            "application/vnd.google.colaboratory.intrinsic+json": {
              "type": "string"
            },
            "text/plain": [
              "'/content/drive/MyDrive/Colab Notebooks/Inria/Data/gt'"
            ]
          },
          "metadata": {},
          "execution_count": 22
        }
      ]
    },
    {
      "cell_type": "code",
      "source": [
        "for filename in glob(gt_path + '/*.tif'):\n",
        "  print(filename[52:].replace(\".tif\",\"\"))"
      ],
      "metadata": {
        "colab": {
          "base_uri": "https://localhost:8080/"
        },
        "id": "aUUvOlnGVT78",
        "outputId": "10ca1039-ea05-454e-c713-63734183fc6f"
      },
      "execution_count": null,
      "outputs": [
        {
          "output_type": "stream",
          "name": "stdout",
          "text": [
            "/vienna3\n",
            "/vienna2\n",
            "/vienna1\n"
          ]
        }
      ]
    },
    {
      "cell_type": "code",
      "source": [
        "for filename in glob(img_path + '/*.tif'):\n",
        "  print(filename[53:].replace(\".tif\",\"\"))"
      ],
      "metadata": {
        "colab": {
          "base_uri": "https://localhost:8080/"
        },
        "id": "AigTeMDOZB2p",
        "outputId": "e7cb2f42-81b8-4f7a-fae0-f7a029732010"
      },
      "execution_count": null,
      "outputs": [
        {
          "output_type": "stream",
          "name": "stdout",
          "text": [
            "/vienna1\n",
            "/vienna3\n"
          ]
        }
      ]
    },
    {
      "cell_type": "code",
      "source": [
        "imgs = np.zeros((len(image_list), 5000, 5000))\n",
        "for i in range(0, len(image_list)):\n",
        "  imgs[i] = np.array(image_list[i]) "
      ],
      "metadata": {
        "id": "Ifes_w4TV4Xd"
      },
      "execution_count": null,
      "outputs": []
    },
    {
      "cell_type": "code",
      "source": [
        "gts = np.zeros((len(gt_list), 5000, 5000))\n",
        "for i in range(0, len(gt_list)):\n",
        "  gts[i] = np.array(gt_list[i]) "
      ],
      "metadata": {
        "id": "0GhTIPMvW7V6"
      },
      "execution_count": null,
      "outputs": []
    },
    {
      "cell_type": "code",
      "source": [
        "gts.shape"
      ],
      "metadata": {
        "colab": {
          "base_uri": "https://localhost:8080/"
        },
        "id": "RvKJA3nhWVUN",
        "outputId": "371932dc-61f2-4b1e-dbff-aeb735b33b5e"
      },
      "execution_count": null,
      "outputs": [
        {
          "output_type": "execute_result",
          "data": {
            "text/plain": [
              "(1, 5000, 5000)"
            ]
          },
          "metadata": {},
          "execution_count": 51
        }
      ]
    },
    {
      "cell_type": "code",
      "source": [
        "tiles = [imgs[0][x:x+500,y:y+500] for x in range(0,imgs[0].shape[0],500) for y in range(0,imgs[0].shape[1],500)]\n"
      ],
      "metadata": {
        "id": "jrpW1JlWWaU1"
      },
      "execution_count": null,
      "outputs": []
    },
    {
      "cell_type": "code",
      "source": [
        "tiles_gt = [gts[0][x:x+500,y:y+500] for x in range(0,gts[0].shape[0],500) for y in range(0,gts[0].shape[1],500)]"
      ],
      "metadata": {
        "id": "VjOFfmK_YDNi"
      },
      "execution_count": null,
      "outputs": []
    },
    {
      "cell_type": "code",
      "source": [
        "imgs = np.array(tiles)\n",
        "gts = np.array(tiles_gt)"
      ],
      "metadata": {
        "id": "qsCHx8eRXKkk"
      },
      "execution_count": null,
      "outputs": []
    },
    {
      "cell_type": "code",
      "source": [
        "print(imgs.shape)\n",
        "print(gts.shape)"
      ],
      "metadata": {
        "colab": {
          "base_uri": "https://localhost:8080/"
        },
        "id": "tFrhUpj8XTVU",
        "outputId": "3710b38a-cd9a-43a2-a972-a86d3e766868"
      },
      "execution_count": null,
      "outputs": [
        {
          "output_type": "stream",
          "name": "stdout",
          "text": [
            "(100, 500, 500)\n",
            "(100, 500, 500)\n"
          ]
        }
      ]
    },
    {
      "cell_type": "code",
      "source": [
        "np.save(\"/content/drive/MyDrive/Colab Notebooks/Inria/Data/img.npy\", imgs)\n",
        "np.save(\"/content/drive/MyDrive/Colab Notebooks/Inria/Data/gt.npy\", gts)"
      ],
      "metadata": {
        "id": "x7j7f8UCXfgN"
      },
      "execution_count": null,
      "outputs": []
    },
    {
      "cell_type": "code",
      "source": [
        ""
      ],
      "metadata": {
        "id": "Gt3nkU8iX8LV"
      },
      "execution_count": null,
      "outputs": []
    }
  ]
}