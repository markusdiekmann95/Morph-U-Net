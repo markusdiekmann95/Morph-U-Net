{
  "nbformat": 4,
  "nbformat_minor": 0,
  "metadata": {
    "colab": {
      "name": "MorphCNN.ipynb",
      "provenance": [],
      "authorship_tag": "ABX9TyNNn8+SwlMwI/BcXw+7MhQ0",
      "include_colab_link": true
    },
    "kernelspec": {
      "name": "python3",
      "display_name": "Python 3"
    },
    "language_info": {
      "name": "python"
    },
    "accelerator": "GPU",
    "widgets": {
      "application/vnd.jupyter.widget-state+json": {
        "bb4990d125de4a55a0946437bbcd0f29": {
          "model_module": "@jupyter-widgets/controls",
          "model_name": "HBoxModel",
          "model_module_version": "1.5.0",
          "state": {
            "_view_name": "HBoxView",
            "_dom_classes": [],
            "_model_name": "HBoxModel",
            "_view_module": "@jupyter-widgets/controls",
            "_model_module_version": "1.5.0",
            "_view_count": null,
            "_view_module_version": "1.5.0",
            "box_style": "",
            "layout": "IPY_MODEL_85830fd3cae14120a3d9869583faa280",
            "_model_module": "@jupyter-widgets/controls",
            "children": [
              "IPY_MODEL_3077e6482b72488c8ea9197ca88cb367",
              "IPY_MODEL_fbe9b081b28549ffb4f46439dd6865c7",
              "IPY_MODEL_360a5a89858e4f328fb382f7993349e2"
            ]
          }
        },
        "85830fd3cae14120a3d9869583faa280": {
          "model_module": "@jupyter-widgets/base",
          "model_name": "LayoutModel",
          "model_module_version": "1.2.0",
          "state": {
            "_view_name": "LayoutView",
            "grid_template_rows": null,
            "right": null,
            "justify_content": null,
            "_view_module": "@jupyter-widgets/base",
            "overflow": null,
            "_model_module_version": "1.2.0",
            "_view_count": null,
            "flex_flow": null,
            "width": null,
            "min_width": null,
            "border": null,
            "align_items": null,
            "bottom": null,
            "_model_module": "@jupyter-widgets/base",
            "top": null,
            "grid_column": null,
            "overflow_y": null,
            "overflow_x": null,
            "grid_auto_flow": null,
            "grid_area": null,
            "grid_template_columns": null,
            "flex": null,
            "_model_name": "LayoutModel",
            "justify_items": null,
            "grid_row": null,
            "max_height": null,
            "align_content": null,
            "visibility": null,
            "align_self": null,
            "height": null,
            "min_height": null,
            "padding": null,
            "grid_auto_rows": null,
            "grid_gap": null,
            "max_width": null,
            "order": null,
            "_view_module_version": "1.2.0",
            "grid_template_areas": null,
            "object_position": null,
            "object_fit": null,
            "grid_auto_columns": null,
            "margin": null,
            "display": null,
            "left": null
          }
        },
        "3077e6482b72488c8ea9197ca88cb367": {
          "model_module": "@jupyter-widgets/controls",
          "model_name": "HTMLModel",
          "model_module_version": "1.5.0",
          "state": {
            "_view_name": "HTMLView",
            "style": "IPY_MODEL_9805139adb13416cb1ca0a037510d1ce",
            "_dom_classes": [],
            "description": "",
            "_model_name": "HTMLModel",
            "placeholder": "​",
            "_view_module": "@jupyter-widgets/controls",
            "_model_module_version": "1.5.0",
            "value": "",
            "_view_count": null,
            "_view_module_version": "1.5.0",
            "description_tooltip": null,
            "_model_module": "@jupyter-widgets/controls",
            "layout": "IPY_MODEL_4acae6103abf4361bd6f0790a2ff3e58"
          }
        },
        "fbe9b081b28549ffb4f46439dd6865c7": {
          "model_module": "@jupyter-widgets/controls",
          "model_name": "FloatProgressModel",
          "model_module_version": "1.5.0",
          "state": {
            "_view_name": "ProgressView",
            "style": "IPY_MODEL_ca4fda233f1b447c89add1fa06cd4ed7",
            "_dom_classes": [],
            "description": "",
            "_model_name": "FloatProgressModel",
            "bar_style": "success",
            "max": 170498071,
            "_view_module": "@jupyter-widgets/controls",
            "_model_module_version": "1.5.0",
            "value": 170498071,
            "_view_count": null,
            "_view_module_version": "1.5.0",
            "orientation": "horizontal",
            "min": 0,
            "description_tooltip": null,
            "_model_module": "@jupyter-widgets/controls",
            "layout": "IPY_MODEL_fa11498ea700468cada661f977c189e6"
          }
        },
        "360a5a89858e4f328fb382f7993349e2": {
          "model_module": "@jupyter-widgets/controls",
          "model_name": "HTMLModel",
          "model_module_version": "1.5.0",
          "state": {
            "_view_name": "HTMLView",
            "style": "IPY_MODEL_a9620a94f4204ab49819a1e815e4bc74",
            "_dom_classes": [],
            "description": "",
            "_model_name": "HTMLModel",
            "placeholder": "​",
            "_view_module": "@jupyter-widgets/controls",
            "_model_module_version": "1.5.0",
            "value": " 170499072/? [00:04&lt;00:00, 40395814.82it/s]",
            "_view_count": null,
            "_view_module_version": "1.5.0",
            "description_tooltip": null,
            "_model_module": "@jupyter-widgets/controls",
            "layout": "IPY_MODEL_abc1f427b06a4408bd40815d7a713117"
          }
        },
        "9805139adb13416cb1ca0a037510d1ce": {
          "model_module": "@jupyter-widgets/controls",
          "model_name": "DescriptionStyleModel",
          "model_module_version": "1.5.0",
          "state": {
            "_view_name": "StyleView",
            "_model_name": "DescriptionStyleModel",
            "description_width": "",
            "_view_module": "@jupyter-widgets/base",
            "_model_module_version": "1.5.0",
            "_view_count": null,
            "_view_module_version": "1.2.0",
            "_model_module": "@jupyter-widgets/controls"
          }
        },
        "4acae6103abf4361bd6f0790a2ff3e58": {
          "model_module": "@jupyter-widgets/base",
          "model_name": "LayoutModel",
          "model_module_version": "1.2.0",
          "state": {
            "_view_name": "LayoutView",
            "grid_template_rows": null,
            "right": null,
            "justify_content": null,
            "_view_module": "@jupyter-widgets/base",
            "overflow": null,
            "_model_module_version": "1.2.0",
            "_view_count": null,
            "flex_flow": null,
            "width": null,
            "min_width": null,
            "border": null,
            "align_items": null,
            "bottom": null,
            "_model_module": "@jupyter-widgets/base",
            "top": null,
            "grid_column": null,
            "overflow_y": null,
            "overflow_x": null,
            "grid_auto_flow": null,
            "grid_area": null,
            "grid_template_columns": null,
            "flex": null,
            "_model_name": "LayoutModel",
            "justify_items": null,
            "grid_row": null,
            "max_height": null,
            "align_content": null,
            "visibility": null,
            "align_self": null,
            "height": null,
            "min_height": null,
            "padding": null,
            "grid_auto_rows": null,
            "grid_gap": null,
            "max_width": null,
            "order": null,
            "_view_module_version": "1.2.0",
            "grid_template_areas": null,
            "object_position": null,
            "object_fit": null,
            "grid_auto_columns": null,
            "margin": null,
            "display": null,
            "left": null
          }
        },
        "ca4fda233f1b447c89add1fa06cd4ed7": {
          "model_module": "@jupyter-widgets/controls",
          "model_name": "ProgressStyleModel",
          "model_module_version": "1.5.0",
          "state": {
            "_view_name": "StyleView",
            "_model_name": "ProgressStyleModel",
            "description_width": "",
            "_view_module": "@jupyter-widgets/base",
            "_model_module_version": "1.5.0",
            "_view_count": null,
            "_view_module_version": "1.2.0",
            "bar_color": null,
            "_model_module": "@jupyter-widgets/controls"
          }
        },
        "fa11498ea700468cada661f977c189e6": {
          "model_module": "@jupyter-widgets/base",
          "model_name": "LayoutModel",
          "model_module_version": "1.2.0",
          "state": {
            "_view_name": "LayoutView",
            "grid_template_rows": null,
            "right": null,
            "justify_content": null,
            "_view_module": "@jupyter-widgets/base",
            "overflow": null,
            "_model_module_version": "1.2.0",
            "_view_count": null,
            "flex_flow": null,
            "width": null,
            "min_width": null,
            "border": null,
            "align_items": null,
            "bottom": null,
            "_model_module": "@jupyter-widgets/base",
            "top": null,
            "grid_column": null,
            "overflow_y": null,
            "overflow_x": null,
            "grid_auto_flow": null,
            "grid_area": null,
            "grid_template_columns": null,
            "flex": null,
            "_model_name": "LayoutModel",
            "justify_items": null,
            "grid_row": null,
            "max_height": null,
            "align_content": null,
            "visibility": null,
            "align_self": null,
            "height": null,
            "min_height": null,
            "padding": null,
            "grid_auto_rows": null,
            "grid_gap": null,
            "max_width": null,
            "order": null,
            "_view_module_version": "1.2.0",
            "grid_template_areas": null,
            "object_position": null,
            "object_fit": null,
            "grid_auto_columns": null,
            "margin": null,
            "display": null,
            "left": null
          }
        },
        "a9620a94f4204ab49819a1e815e4bc74": {
          "model_module": "@jupyter-widgets/controls",
          "model_name": "DescriptionStyleModel",
          "model_module_version": "1.5.0",
          "state": {
            "_view_name": "StyleView",
            "_model_name": "DescriptionStyleModel",
            "description_width": "",
            "_view_module": "@jupyter-widgets/base",
            "_model_module_version": "1.5.0",
            "_view_count": null,
            "_view_module_version": "1.2.0",
            "_model_module": "@jupyter-widgets/controls"
          }
        },
        "abc1f427b06a4408bd40815d7a713117": {
          "model_module": "@jupyter-widgets/base",
          "model_name": "LayoutModel",
          "model_module_version": "1.2.0",
          "state": {
            "_view_name": "LayoutView",
            "grid_template_rows": null,
            "right": null,
            "justify_content": null,
            "_view_module": "@jupyter-widgets/base",
            "overflow": null,
            "_model_module_version": "1.2.0",
            "_view_count": null,
            "flex_flow": null,
            "width": null,
            "min_width": null,
            "border": null,
            "align_items": null,
            "bottom": null,
            "_model_module": "@jupyter-widgets/base",
            "top": null,
            "grid_column": null,
            "overflow_y": null,
            "overflow_x": null,
            "grid_auto_flow": null,
            "grid_area": null,
            "grid_template_columns": null,
            "flex": null,
            "_model_name": "LayoutModel",
            "justify_items": null,
            "grid_row": null,
            "max_height": null,
            "align_content": null,
            "visibility": null,
            "align_self": null,
            "height": null,
            "min_height": null,
            "padding": null,
            "grid_auto_rows": null,
            "grid_gap": null,
            "max_width": null,
            "order": null,
            "_view_module_version": "1.2.0",
            "grid_template_areas": null,
            "object_position": null,
            "object_fit": null,
            "grid_auto_columns": null,
            "margin": null,
            "display": null,
            "left": null
          }
        }
      }
    }
  },
  "cells": [
    {
      "cell_type": "markdown",
      "metadata": {
        "id": "view-in-github",
        "colab_type": "text"
      },
      "source": [
        "<a href=\"https://colab.research.google.com/github/markusdiekmann95/Morph-U-Net/blob/main/MorphCNN.ipynb\" target=\"_parent\"><img src=\"https://colab.research.google.com/assets/colab-badge.svg\" alt=\"Open In Colab\"/></a>"
      ]
    },
    {
      "cell_type": "markdown",
      "source": [
        "This Notebook was used to test the feasibility of MorphNet functions on a simple CNN. The Preprocessing and the Modeling is based on https://pytorch.org/tutorials/beginner/blitz/cifar10_tutorial.html and adjusted by myself."
      ],
      "metadata": {
        "id": "ohqc1HJxeApg"
      }
    },
    {
      "cell_type": "code",
      "execution_count": null,
      "metadata": {
        "id": "cI1F1jXBEC8C"
      },
      "outputs": [],
      "source": [
        "import torch\n",
        "import torchvision\n",
        "import torchvision.transforms as transforms"
      ]
    },
    {
      "cell_type": "code",
      "source": [
        "transform = transforms.Compose(\n",
        "    [transforms.ToTensor(),\n",
        "     transforms.Normalize((0.5, 0.5, 0.5), (0.5, 0.5, 0.5))])\n",
        "\n",
        "batch_size = 32\n",
        "\n",
        "trainset = torchvision.datasets.CIFAR10(root='./data', train=True,\n",
        "                                        download=True, transform=transform)\n",
        "trainloader = torch.utils.data.DataLoader(trainset, batch_size=batch_size,\n",
        "                                          shuffle=True, num_workers=2)\n",
        "\n",
        "testset = torchvision.datasets.CIFAR10(root='./data', train=False,\n",
        "                                       download=True, transform=transform)\n",
        "testloader = torch.utils.data.DataLoader(testset, batch_size=batch_size,\n",
        "                                         shuffle=False, num_workers=2)\n",
        "\n",
        "classes = ('plane', 'car', 'bird', 'cat',\n",
        "           'deer', 'dog', 'frog', 'horse', 'ship', 'truck')"
      ],
      "metadata": {
        "colab": {
          "base_uri": "https://localhost:8080/",
          "height": 101,
          "referenced_widgets": [
            "bb4990d125de4a55a0946437bbcd0f29",
            "85830fd3cae14120a3d9869583faa280",
            "3077e6482b72488c8ea9197ca88cb367",
            "fbe9b081b28549ffb4f46439dd6865c7",
            "360a5a89858e4f328fb382f7993349e2",
            "9805139adb13416cb1ca0a037510d1ce",
            "4acae6103abf4361bd6f0790a2ff3e58",
            "ca4fda233f1b447c89add1fa06cd4ed7",
            "fa11498ea700468cada661f977c189e6",
            "a9620a94f4204ab49819a1e815e4bc74",
            "abc1f427b06a4408bd40815d7a713117"
          ]
        },
        "id": "wleu9TPzEGrc",
        "outputId": "40bf8871-2c0b-41c6-9484-675f42129e02"
      },
      "execution_count": null,
      "outputs": [
        {
          "output_type": "stream",
          "name": "stdout",
          "text": [
            "Downloading https://www.cs.toronto.edu/~kriz/cifar-10-python.tar.gz to ./data/cifar-10-python.tar.gz\n"
          ]
        },
        {
          "output_type": "display_data",
          "data": {
            "application/vnd.jupyter.widget-view+json": {
              "model_id": "bb4990d125de4a55a0946437bbcd0f29",
              "version_minor": 0,
              "version_major": 2
            },
            "text/plain": [
              "  0%|          | 0/170498071 [00:00<?, ?it/s]"
            ]
          },
          "metadata": {}
        },
        {
          "output_type": "stream",
          "name": "stdout",
          "text": [
            "Extracting ./data/cifar-10-python.tar.gz to ./data\n",
            "Files already downloaded and verified\n"
          ]
        }
      ]
    },
    {
      "cell_type": "code",
      "source": [
        "import matplotlib.pyplot as plt\n",
        "import numpy as np\n",
        "def imshow(img):\n",
        "    img = img / 2 + 0.5     # unnormalize\n",
        "    npimg = img.numpy()\n",
        "    plt.imshow(np.transpose(npimg, (1, 2, 0)))\n",
        "    plt.show()\n",
        "\n",
        "\n",
        "# get some random training images\n",
        "dataiter = iter(trainloader)\n",
        "images, labels = dataiter.next()\n",
        "\n",
        "# show images\n",
        "imshow(torchvision.utils.make_grid(images))\n",
        "# print labels\n",
        "print(' '.join(f'{classes[labels[j]]:5s}' for j in range(batch_size)))"
      ],
      "metadata": {
        "colab": {
          "base_uri": "https://localhost:8080/",
          "height": 237
        },
        "id": "4bJXXg7bEIMj",
        "outputId": "1ce50a05-acb8-48e1-8576-9cd98ef5c268"
      },
      "execution_count": null,
      "outputs": [
        {
          "output_type": "display_data",
          "data": {
            "image/png": "[encoded data removed]",
            "text/plain": [
              "<Figure size 432x288 with 1 Axes>"
            ]
          },
          "metadata": {
            "needs_background": "light"
          }
        },
        {
          "output_type": "stream",
          "name": "stdout",
          "text": [
            "ship  frog  bird  deer  truck truck plane truck car   plane dog   frog  car   cat   cat   ship  truck truck truck bird  deer  plane horse truck dog   plane ship  dog   car   bird  deer  ship \n"
          ]
        }
      ]
    },
    {
      "cell_type": "code",
      "source": [
        "def conv(a,b):\n",
        "  convi = nn.Sequential(\n",
        "    nn.Conv2d(a, b, 3,  stride=1, padding=1),\n",
        "    nn.ReLU(inplace=True),\n",
        "    nn.BatchNorm2d(b)\n",
        "  )\n",
        "  return convi"
      ],
      "metadata": {
        "id": "FNeaa_0aOHrV"
      },
      "execution_count": null,
      "outputs": []
    },
    {
      "cell_type": "code",
      "source": [
        "import torch.nn as nn\n",
        "import torch.nn.functional as F\n",
        "\n",
        "\n",
        "class Net(nn.Module):\n",
        "    def __init__(self):\n",
        "        super().__init__()\n",
        "        self.conv1 = conv(3,32)\n",
        "        self.pool = nn.MaxPool2d(2, 2)\n",
        "        self.conv2 = conv(32, 64)\n",
        "        self.conv3 = conv(64, 128)\n",
        "        self.conv4 = conv(128, 256)\n",
        "        self.conv5 = conv(256, 256)\n",
        "        self.fc1 = nn.Linear(256 * 4 * 4, 128)\n",
        "        self.fc3 = nn.Linear(128, 10)\n",
        "\n",
        "    def forward(self, x):\n",
        "\n",
        "        x = self.conv1(x)\n",
        "        x = self.conv2(x)\n",
        "        x = self.pool(x)\n",
        "        x = self.conv3(x) \n",
        "        x = self.conv4(x)\n",
        "        x = self.pool(x) \n",
        "        x = self.conv5(x)\n",
        "\n",
        "\n",
        "        x = self.pool(x) \n",
        "    \n",
        "        x = torch.flatten(x, 1) # flatten all dimensions except batch\n",
        "        x = F.relu(self.fc1(x))\n",
        "     #   x = F.relu(self.fc2(x))\n",
        "        x = self.fc3(x)\n",
        "        return x\n",
        "\n",
        "\n"
      ],
      "metadata": {
        "id": "MKu2pFfyEJrM"
      },
      "execution_count": null,
      "outputs": []
    },
    {
      "cell_type": "code",
      "source": [
        "def model_size_C(layer):\n",
        "  if not len(layer.size())==4:\n",
        "    \"Wrong Layer! Len of Size must be 4!\"\n",
        "  res = torch.tensor(0.)\n",
        "  x = torch.Tensor(2)\n",
        "  x[0] = torch.tensor([layer.shape[2]])\n",
        "  x[1] = torch.tensor([layer.shape[3]])\n",
        "  res = torch.prod(x)\n",
        "  return res.cuda()\n",
        "\n",
        "def l1_reg(layer):\n",
        "  ''' L1 Regularization'''\n",
        "  l1 = 0\n",
        "  for param in layer:\n",
        "    l1 += torch.sum(torch.abs(param))\n",
        "  return l1\n",
        "\n",
        "def zero_out_indicator(layer, threshold=0.0001):\n",
        "  '''Indicator if a neuron is alive or not'''\n",
        "  res = torch.Tensor(layer.size()).cuda()\n",
        "  al = 0\n",
        "  for param in layer:\n",
        "    i = 0\n",
        "    res[i] = param\n",
        "  res = res.where(layer.abs() > torch.tensor(threshold).cuda(), torch.tensor(0.).cuda())\n",
        "  res = layer.where(layer.abs() < torch.tensor(0.).cuda(), torch.tensor(1.).cuda())\n",
        "  al = torch.sum(res)\n",
        "  return al\n",
        "\n",
        "def gamma_regularizer(model, C, threshold=0.0001):\n",
        "  '''MorphNet Gamma Regularization'''\n",
        "  last_module = None\n",
        "  costs = 0.\n",
        "  for module in model.modules():\n",
        "    if isinstance(module, nn.Sequential):\n",
        "      if last_module is None:\n",
        "        #Input\n",
        "        costs += C(module[0].weight) * zero_out_indicator(module[2].weight, threshold) * 0 #Model Input - has no gammas\n",
        "\n",
        "        #Output\n",
        "        costs += C(module[0].weight) * l1_reg(module[2].weight) * 3 #First Batchnorm gammas in double conv block, Input channels are always alive!\n",
        "\n",
        "\n",
        "        last_module = module\n",
        "      else:\n",
        "        #Input\n",
        "        costs += model_size_C(module[0].weight) * l1_reg(last_module[2].weight) * zero_out_indicator(module[2].weight, threshold) #First Batchnorm gammas in double conv block\n",
        "\n",
        "        #Output\n",
        "        costs += model_size_C(module[0].weight) * l1_reg(module[2].weight) * zero_out_indicator(last_module[2].weight, threshold) #First Batchnorm gammas in double conv block\n",
        "\n",
        "\n",
        "        last_module = module\n",
        "  \n",
        "  return costs"
      ],
      "metadata": {
        "id": "3r9HMUTWEXit"
      },
      "execution_count": null,
      "outputs": []
    },
    {
      "cell_type": "code",
      "source": [
        "net = Net()\n",
        "device = torch.device(\"cuda\") if torch.cuda.is_available() else torch.device(\"cpu\")\n",
        "print(\"Device\", device)\n",
        "net.to(device)"
      ],
      "metadata": {
        "colab": {
          "base_uri": "https://localhost:8080/"
        },
        "id": "gzOTriQ9Jdnd",
        "outputId": "f07e83ea-1195-4e4d-b2e0-1fcdba3ddac8"
      },
      "execution_count": null,
      "outputs": [
        {
          "output_type": "stream",
          "name": "stdout",
          "text": [
            "Device cuda\n"
          ]
        },
        {
          "output_type": "execute_result",
          "data": {
            "text/plain": [
              "Net(\n",
              "  (conv1): Sequential(\n",
              "    (0): Conv2d(3, 32, kernel_size=(3, 3), stride=(1, 1), padding=(1, 1))\n",
              "    (1): ReLU(inplace=True)\n",
              "    (2): BatchNorm2d(32, eps=1e-05, momentum=0.1, affine=True, track_running_stats=True)\n",
              "  )\n",
              "  (pool): MaxPool2d(kernel_size=2, stride=2, padding=0, dilation=1, ceil_mode=False)\n",
              "  (conv2): Sequential(\n",
              "    (0): Conv2d(32, 64, kernel_size=(3, 3), stride=(1, 1), padding=(1, 1))\n",
              "    (1): ReLU(inplace=True)\n",
              "    (2): BatchNorm2d(64, eps=1e-05, momentum=0.1, affine=True, track_running_stats=True)\n",
              "  )\n",
              "  (conv3): Sequential(\n",
              "    (0): Conv2d(64, 128, kernel_size=(3, 3), stride=(1, 1), padding=(1, 1))\n",
              "    (1): ReLU(inplace=True)\n",
              "    (2): BatchNorm2d(128, eps=1e-05, momentum=0.1, affine=True, track_running_stats=True)\n",
              "  )\n",
              "  (conv4): Sequential(\n",
              "    (0): Conv2d(128, 256, kernel_size=(3, 3), stride=(1, 1), padding=(1, 1))\n",
              "    (1): ReLU(inplace=True)\n",
              "    (2): BatchNorm2d(256, eps=1e-05, momentum=0.1, affine=True, track_running_stats=True)\n",
              "  )\n",
              "  (conv5): Sequential(\n",
              "    (0): Conv2d(256, 256, kernel_size=(3, 3), stride=(1, 1), padding=(1, 1))\n",
              "    (1): ReLU(inplace=True)\n",
              "    (2): BatchNorm2d(256, eps=1e-05, momentum=0.1, affine=True, track_running_stats=True)\n",
              "  )\n",
              "  (fc1): Linear(in_features=4096, out_features=128, bias=True)\n",
              "  (fc3): Linear(in_features=128, out_features=10, bias=True)\n",
              ")"
            ]
          },
          "metadata": {},
          "execution_count": 100
        }
      ]
    },
    {
      "cell_type": "code",
      "source": [
        "for module in net.modules():\n",
        "  if isinstance(module, nn.Sequential):\n",
        "    print(module)"
      ],
      "metadata": {
        "id": "NXRoyVfgPEsM",
        "colab": {
          "base_uri": "https://localhost:8080/"
        },
        "outputId": "f2fa7d9b-c40d-4136-f61c-acfc7454860b"
      },
      "execution_count": null,
      "outputs": [
        {
          "output_type": "stream",
          "name": "stdout",
          "text": [
            "Sequential(\n",
            "  (0): Conv2d(3, 32, kernel_size=(3, 3), stride=(1, 1), padding=(1, 1))\n",
            "  (1): ReLU(inplace=True)\n",
            "  (2): BatchNorm2d(32, eps=1e-05, momentum=0.1, affine=True, track_running_stats=True)\n",
            ")\n",
            "Sequential(\n",
            "  (0): Conv2d(32, 64, kernel_size=(3, 3), stride=(1, 1), padding=(1, 1))\n",
            "  (1): ReLU(inplace=True)\n",
            "  (2): BatchNorm2d(64, eps=1e-05, momentum=0.1, affine=True, track_running_stats=True)\n",
            ")\n",
            "Sequential(\n",
            "  (0): Conv2d(64, 128, kernel_size=(3, 3), stride=(1, 1), padding=(1, 1))\n",
            "  (1): ReLU(inplace=True)\n",
            "  (2): BatchNorm2d(128, eps=1e-05, momentum=0.1, affine=True, track_running_stats=True)\n",
            ")\n",
            "Sequential(\n",
            "  (0): Conv2d(128, 256, kernel_size=(3, 3), stride=(1, 1), padding=(1, 1))\n",
            "  (1): ReLU(inplace=True)\n",
            "  (2): BatchNorm2d(256, eps=1e-05, momentum=0.1, affine=True, track_running_stats=True)\n",
            ")\n",
            "Sequential(\n",
            "  (0): Conv2d(256, 256, kernel_size=(3, 3), stride=(1, 1), padding=(1, 1))\n",
            "  (1): ReLU(inplace=True)\n",
            "  (2): BatchNorm2d(256, eps=1e-05, momentum=0.1, affine=True, track_running_stats=True)\n",
            ")\n"
          ]
        }
      ]
    },
    {
      "cell_type": "code",
      "source": [
        "from torchsummary import summary\n",
        "summary(net,(3,32,32))"
      ],
      "metadata": {
        "colab": {
          "base_uri": "https://localhost:8080/"
        },
        "id": "y1llq1IAHHaF",
        "outputId": "73c57731-0810-419e-9715-640eac0002ca"
      },
      "execution_count": null,
      "outputs": [
        {
          "output_type": "stream",
          "name": "stdout",
          "text": [
            "----------------------------------------------------------------\n",
            "        Layer (type)               Output Shape         Param #\n",
            "================================================================\n",
            "            Conv2d-1           [-1, 32, 32, 32]             896\n",
            "              ReLU-2           [-1, 32, 32, 32]               0\n",
            "       BatchNorm2d-3           [-1, 32, 32, 32]              64\n",
            "            Conv2d-4           [-1, 64, 32, 32]          18,496\n",
            "              ReLU-5           [-1, 64, 32, 32]               0\n",
            "       BatchNorm2d-6           [-1, 64, 32, 32]             128\n",
            "         MaxPool2d-7           [-1, 64, 16, 16]               0\n",
            "            Conv2d-8          [-1, 128, 16, 16]          73,856\n",
            "              ReLU-9          [-1, 128, 16, 16]               0\n",
            "      BatchNorm2d-10          [-1, 128, 16, 16]             256\n",
            "           Conv2d-11          [-1, 256, 16, 16]         295,168\n",
            "             ReLU-12          [-1, 256, 16, 16]               0\n",
            "      BatchNorm2d-13          [-1, 256, 16, 16]             512\n",
            "        MaxPool2d-14            [-1, 256, 8, 8]               0\n",
            "           Conv2d-15            [-1, 256, 8, 8]         590,080\n",
            "             ReLU-16            [-1, 256, 8, 8]               0\n",
            "      BatchNorm2d-17            [-1, 256, 8, 8]             512\n",
            "        MaxPool2d-18            [-1, 256, 4, 4]               0\n",
            "           Linear-19                  [-1, 128]         524,416\n",
            "           Linear-20                   [-1, 10]           1,290\n",
            "================================================================\n",
            "Total params: 1,505,674\n",
            "Trainable params: 1,505,674\n",
            "Non-trainable params: 0\n",
            "----------------------------------------------------------------\n",
            "Input size (MB): 0.01\n",
            "Forward/backward pass size (MB): 5.16\n",
            "Params size (MB): 5.74\n",
            "Estimated Total Size (MB): 10.91\n",
            "----------------------------------------------------------------\n"
          ]
        }
      ]
    },
    {
      "cell_type": "code",
      "source": [
        "import torch.optim as optim\n",
        "\n",
        "criterion = nn.CrossEntropyLoss()\n",
        "optimizer = optim.Adam(net.parameters(), lr=0.001)#, momentum=0.9)\n",
        "\n"
      ],
      "metadata": {
        "id": "kvIXg98hEPAD"
      },
      "execution_count": null,
      "outputs": []
    },
    {
      "cell_type": "code",
      "source": [
        "for epoch in range(10):  # loop over the dataset multiple times\n",
        "    costs = 0.\n",
        "    running_loss = 0.0\n",
        "    print(epoch)\n",
        "    for i, data in enumerate(trainloader, 0):\n",
        "        # get the inputs; data is a list of [inputs, labels]\n",
        "        inputs, labels = data\n",
        "        inputs = inputs.to(device)\n",
        "        labels = labels.to(device)\n",
        "        \n",
        "        # zero the parameter gradients\n",
        "        optimizer.zero_grad()\n",
        "\n",
        "\n",
        "        # forward + backward + optimize\n",
        "        outputs = net(inputs)\n",
        "        costs = gamma_regularizer(net, model_size_C, threshold=0.001)\n",
        "        loss = criterion(outputs, labels) + 1e-4 * costs\n",
        "        loss.backward()\n",
        "        optimizer.step()\n",
        "\n",
        "        # print statistics\n",
        "        running_loss += loss.item()\n",
        "        if i % 2000 == 1999:    # print every 2000 mini-batches\n",
        "            print(f'[{epoch + 1}, {i + 1:5d}] loss: {running_loss / 2000:.3f}')\n",
        "            running_loss = 0.0\n",
        "\n",
        "print('Finished Training')"
      ],
      "metadata": {
        "colab": {
          "base_uri": "https://localhost:8080/"
        },
        "id": "hO47BTIhERoe",
        "outputId": "1e2af01f-27df-4fbb-a02b-7c92f825baa2"
      },
      "execution_count": null,
      "outputs": [
        {
          "output_type": "stream",
          "name": "stdout",
          "text": [
            "0\n",
            "1\n",
            "2\n",
            "3\n",
            "4\n",
            "5\n",
            "6\n",
            "7\n",
            "8\n",
            "9\n",
            "Finished Training\n"
          ]
        }
      ]
    },
    {
      "cell_type": "code",
      "source": [
        "for module in net.modules():\n",
        "   if isinstance(module, nn.Sequential):\n",
        "    print(module[2].weight)\n"
      ],
      "metadata": {
        "colab": {
          "base_uri": "https://localhost:8080/"
        },
        "id": "yF5eq5MVNjdN",
        "outputId": "d3cc6505-4764-4e76-9ed3-2c04a30ca5c5"
      },
      "execution_count": null,
      "outputs": [
        {
          "output_type": "stream",
          "name": "stdout",
          "text": [
            "Parameter containing:\n",
            "tensor([ 1.4031e-02,  3.5764e-02,  8.8962e-03,  1.6985e-02,  1.6073e-03,\n",
            "        -8.0300e-04,  2.4940e-02,  1.7373e-03,  3.6184e-02, -2.1100e-03,\n",
            "         1.9442e-03,  8.0460e-05,  2.1905e-02,  1.6425e-02,  3.9367e-02,\n",
            "        -1.7771e-04,  2.3945e-02,  8.0588e-04,  2.1652e-02,  1.4001e-03,\n",
            "         7.7778e-04,  2.7623e-02,  3.0861e-02,  7.0958e-03, -1.4679e-04,\n",
            "         1.3617e-02,  5.3555e-04,  7.7426e-04,  2.6959e-02,  1.4334e-02,\n",
            "         7.6519e-03,  2.3640e-02], device='cuda:0', requires_grad=True)\n",
            "Parameter containing:\n",
            "tensor([-1.0516e-03,  5.8061e-04,  4.0374e-04,  1.8867e-04,  1.5600e-03,\n",
            "         3.4493e-03,  9.0476e-03, -9.7267e-05,  1.5415e-04,  1.0951e-02,\n",
            "         1.9474e-02, -6.1093e-05, -9.0802e-04,  1.0577e-03,  2.3941e-03,\n",
            "        -3.2298e-04,  1.2082e-04, -8.9934e-05, -9.7003e-04,  1.3725e-02,\n",
            "        -2.7541e-03,  4.4688e-05,  1.4693e-04,  5.5685e-03,  6.5523e-03,\n",
            "         1.3807e-02, -9.0961e-05,  1.2973e-02, -2.8223e-04, -6.1316e-04,\n",
            "        -7.2411e-05,  1.5387e-02,  5.0337e-04,  1.8045e-04,  1.4892e-02,\n",
            "         4.3459e-04, -4.7627e-05,  7.6458e-03, -1.4396e-04, -1.8876e-03,\n",
            "         4.8714e-05,  1.0574e-02,  1.1128e-02,  1.9318e-04,  2.0108e-03,\n",
            "        -1.4744e-03,  8.1913e-03,  7.3749e-03,  3.2896e-03,  9.8633e-05,\n",
            "         1.2315e-02, -1.4957e-02,  1.6735e-02, -1.1698e-04,  9.1409e-03,\n",
            "        -3.3640e-03, -2.5715e-04, -6.0144e-04,  1.2291e-02, -1.1088e-03,\n",
            "         9.4916e-04, -1.9445e-03,  2.9889e-05,  6.6961e-03], device='cuda:0',\n",
            "       requires_grad=True)\n",
            "Parameter containing:\n",
            "tensor([-1.3647e-04, -7.8992e-04,  1.3346e-04,  1.2419e-04, -2.8608e-05,\n",
            "         8.7062e-05,  1.3934e-04, -4.8222e-05,  5.3535e-06,  5.2508e-05,\n",
            "        -3.7882e-04,  3.2970e-04,  9.9473e-03,  1.0427e-04,  1.2425e-05,\n",
            "         3.5541e-07,  3.7698e-05,  1.9724e-04, -1.5664e-04,  3.5810e-04,\n",
            "        -9.9468e-05,  6.8344e-05,  6.5400e-05,  6.8236e-03, -3.8608e-04,\n",
            "         8.9703e-06, -6.3931e-05,  2.0520e-04, -3.4313e-04, -3.3353e-04,\n",
            "        -4.8332e-04,  1.8532e-05, -1.0384e-04,  3.1046e-04, -7.4583e-04,\n",
            "        -1.1313e-04,  8.6823e-03, -8.3265e-05,  3.3116e-04,  1.5161e-04,\n",
            "        -1.0732e-04, -1.0442e-04,  3.7027e-05, -5.3486e-04,  1.4272e-04,\n",
            "         1.0158e-03,  1.4554e-04, -1.5122e-05,  4.1354e-06, -3.0698e-04,\n",
            "         1.6048e-04,  1.4629e-04, -7.1078e-04, -2.8758e-04,  5.3042e-05,\n",
            "        -1.1998e-04, -7.9604e-05,  1.0854e-04, -2.1181e-05,  8.3995e-03,\n",
            "        -3.1341e-07,  1.1993e-02,  5.0971e-04, -1.9594e-04,  3.7735e-05,\n",
            "        -4.8010e-05, -4.8050e-05,  2.6835e-04,  5.6815e-03,  2.9039e-04,\n",
            "        -1.9036e-05, -2.6020e-04,  2.9768e-04, -5.5924e-04, -2.2963e-04,\n",
            "         7.0829e-05, -4.2907e-05, -1.2232e-05,  1.4788e-04,  1.7960e-04,\n",
            "         1.3523e-04, -4.0976e-04, -1.7500e-04,  3.0054e-04, -1.4792e-04,\n",
            "         3.0336e-04,  4.6868e-03, -8.1698e-05, -5.0393e-05, -4.4666e-05,\n",
            "         6.8442e-05,  3.3786e-04, -2.1475e-04, -2.1861e-03,  1.0524e-04,\n",
            "        -1.7829e-03,  6.1057e-05, -1.5975e-04,  7.4204e-05,  1.5446e-03,\n",
            "         3.6980e-04, -6.5564e-05,  5.7935e-05,  7.3757e-04, -3.3054e-04,\n",
            "        -5.8263e-05, -1.6265e-05,  1.2976e-03, -2.7950e-04, -1.7490e-04,\n",
            "        -6.2646e-05,  1.9532e-04, -2.0195e-04, -2.4163e-04,  8.2316e-05,\n",
            "        -8.7877e-05, -1.4166e-03,  6.2811e-06, -1.0052e-03, -3.6486e-05,\n",
            "         8.6218e-03, -2.4973e-04,  3.9454e-05, -1.2795e-04,  1.7526e-04,\n",
            "         5.6568e-05, -3.1076e-04, -9.7940e-05], device='cuda:0',\n",
            "       requires_grad=True)\n",
            "Parameter containing:\n",
            "tensor([ 4.5695e-05, -3.0582e-04, -1.2407e-03,  1.2078e-02,  2.7083e-04,\n",
            "         1.2066e-04,  1.1562e-03, -2.1536e-07,  1.1317e-04,  1.3330e-02,\n",
            "         2.3850e-04,  1.6317e-04,  3.3370e-05,  5.5283e-05,  1.1207e-03,\n",
            "         1.3783e-04, -1.8419e-05, -4.5255e-05,  6.6934e-05, -4.2102e-04,\n",
            "         3.4146e-06,  4.9711e-05, -1.6669e-04,  1.5234e-05, -7.8021e-05,\n",
            "         2.9108e-04, -4.9108e-05,  2.5525e-05,  5.5813e-04,  3.8317e-04,\n",
            "        -1.1738e-04, -5.3382e-04, -3.9968e-04,  2.8651e-04,  4.8743e-04,\n",
            "         1.9710e-04, -2.0663e-05, -1.4340e-05, -5.2080e-05, -9.3662e-05,\n",
            "         1.9194e-04,  7.2848e-04, -1.8547e-04, -7.2577e-04,  7.0935e-04,\n",
            "         7.7953e-05, -2.4929e-06,  1.3955e-04, -4.1495e-05, -1.1009e-03,\n",
            "         1.2801e-03, -3.1847e-04,  3.1854e-05,  1.2457e-04, -1.0857e-04,\n",
            "         7.0168e-04,  1.0333e-04,  1.8712e-03,  7.4572e-04, -2.6841e-04,\n",
            "         2.8740e-04,  2.2695e-05,  1.5457e-04,  9.0683e-05,  1.1258e-04,\n",
            "        -3.0021e-04,  9.2485e-05,  9.3103e-04,  1.7530e-04,  4.6703e-04,\n",
            "         1.8142e-03,  4.0830e-05,  1.6367e-04,  1.0503e-03, -1.9895e-03,\n",
            "         2.3534e-03,  2.8567e-04, -1.2687e-03,  5.7297e-06,  5.1294e-05,\n",
            "         1.4893e-04,  5.3988e-04, -3.5441e-04,  1.3697e-04,  1.3724e-04,\n",
            "         7.8227e-05,  1.5300e-04, -3.1614e-04,  1.5674e-04,  3.2253e-04,\n",
            "         3.7472e-06, -2.7541e-04,  1.5100e-03,  1.2113e-02,  1.0662e-05,\n",
            "         9.7795e-06,  1.2952e-04, -1.4508e-03, -6.6116e-04, -1.5462e-04,\n",
            "         7.2142e-05, -1.5359e-04,  2.8524e-06,  1.8822e-04, -2.3435e-04,\n",
            "         1.2772e-04, -1.4607e-04,  5.0870e-05,  1.2586e-03,  2.6798e-04,\n",
            "         8.3251e-05,  1.2599e-03, -2.2958e-04, -6.9541e-05,  1.4278e-04,\n",
            "         1.1407e-03,  9.5021e-04,  1.0690e-04,  2.6751e-04,  4.5855e-04,\n",
            "        -1.4181e-04,  1.8151e-05,  1.3124e-02,  2.2417e-04,  3.1653e-05,\n",
            "         7.9425e-04, -1.8373e-04, -1.2844e-04,  1.4007e-04,  4.1231e-04,\n",
            "         2.1865e-04, -7.4273e-05, -5.1173e-04,  2.5406e-04,  2.0766e-04,\n",
            "         9.4879e-05, -6.1030e-05, -5.2372e-04,  2.3144e-05,  1.8647e-04,\n",
            "         7.3694e-05,  1.6024e-04,  4.7564e-05,  1.5101e-04,  1.6777e-05,\n",
            "        -1.7397e-04,  3.3834e-05,  8.1305e-04,  2.1538e-04,  7.0624e-04,\n",
            "         1.0439e-04, -1.3939e-05,  2.6261e-04,  1.0152e-03, -4.8684e-04,\n",
            "        -1.3387e-04, -6.5942e-05,  1.2369e-04, -2.0391e-04, -1.5299e-04,\n",
            "        -6.1215e-05,  7.0930e-04,  1.0166e-02, -7.5668e-04,  2.8957e-04,\n",
            "         6.1818e-04, -1.3404e-04,  1.8690e-03, -9.4469e-06, -3.4349e-05,\n",
            "         8.6143e-05, -3.0270e-04, -9.4972e-05,  4.9344e-05,  8.1890e-05,\n",
            "         1.3083e-04,  3.9689e-04, -5.9368e-04,  3.8353e-05,  1.3479e-04,\n",
            "         1.4011e-04, -4.0105e-04,  5.1805e-04, -3.0501e-06,  8.9123e-05,\n",
            "        -9.6112e-04,  9.0298e-05,  8.4918e-04,  6.5023e-05,  1.2304e-04,\n",
            "        -1.2283e-05, -1.3367e-04, -1.4323e-04, -9.5852e-04,  1.2737e-03,\n",
            "        -7.0921e-06,  2.6114e-04,  7.3171e-05,  1.9518e-04, -5.0850e-06,\n",
            "         4.4884e-06,  1.2856e-04, -8.4712e-04,  4.6100e-04,  5.5242e-05,\n",
            "        -6.2281e-05,  5.9067e-05, -6.3076e-04,  2.1364e-04,  1.0729e-04,\n",
            "         1.7681e-03,  2.7029e-04, -2.6435e-04, -5.2507e-05,  8.3951e-05,\n",
            "         2.2893e-05,  1.6729e-04,  1.1957e-05,  5.1247e-06,  3.5165e-04,\n",
            "         6.5115e-06, -7.8395e-04,  5.2376e-05, -2.1060e-04,  1.5959e-05,\n",
            "         5.6616e-04,  2.4535e-04, -4.3720e-05,  7.6557e-03,  8.3150e-05,\n",
            "         1.3073e-04,  9.0148e-04,  6.4657e-05,  2.8890e-04,  6.0007e-05,\n",
            "        -2.0595e-04,  5.7197e-05,  8.3630e-05, -2.6064e-04,  7.1296e-06,\n",
            "         1.1001e-04,  1.1181e-04,  3.7084e-04, -6.9625e-05, -7.3071e-05,\n",
            "         3.4171e-04, -1.0209e-04, -3.2496e-04,  1.3125e-03,  8.7977e-05,\n",
            "        -8.8687e-05, -4.8035e-04,  3.5001e-04,  8.0070e-04, -2.7096e-05,\n",
            "        -2.9871e-05], device='cuda:0', requires_grad=True)\n",
            "Parameter containing:\n",
            "tensor([-4.9251e-05,  1.2601e-04,  3.0273e-04,  1.4687e-04,  3.7080e-05,\n",
            "        -5.8834e-04, -2.7049e-04,  1.1464e-03,  2.7075e-04,  3.0233e-04,\n",
            "        -4.3415e-05,  4.0088e-04, -4.1462e-05,  7.1322e-05,  7.8365e-05,\n",
            "        -3.1194e-06, -2.3930e-04, -4.9135e-05,  2.3064e-04, -4.9001e-05,\n",
            "        -8.7814e-05,  1.5714e-04, -3.5739e-05,  1.5099e-04,  1.5834e-02,\n",
            "         4.2680e-04, -3.0104e-04, -1.5805e-05,  1.0016e-04, -5.1373e-04,\n",
            "         1.1605e-05, -1.3626e-03,  5.7073e-05, -1.0253e-04, -1.2465e-04,\n",
            "         2.5784e-04, -1.3536e-03, -5.3895e-04, -1.5880e-05, -3.4395e-05,\n",
            "         4.8845e-04,  4.1159e-05,  2.3945e-04, -8.4367e-05, -1.5769e-05,\n",
            "        -4.7156e-05, -2.0751e-05,  2.8474e-05,  1.0356e-04, -6.4579e-04,\n",
            "        -6.3962e-05,  3.1559e-04,  6.4800e-04, -3.6622e-05, -2.2837e-04,\n",
            "         3.1282e-04, -2.8616e-04,  1.4296e-03, -3.6450e-05, -7.5086e-05,\n",
            "         1.2073e-04,  3.7514e-04, -7.1232e-05, -1.7711e-05,  1.1823e-03,\n",
            "         3.6834e-04, -9.4418e-05, -1.5248e-04,  1.7407e-04, -1.4180e-04,\n",
            "        -1.8921e-04,  6.0451e-04,  1.2631e-04,  5.0890e-05,  4.3894e-05,\n",
            "        -5.4999e-05, -1.9308e-04,  8.2862e-04,  7.2093e-04, -2.2507e-04,\n",
            "        -4.8515e-04, -1.3666e-04,  6.8130e-05, -1.2873e-04, -2.2969e-06,\n",
            "        -6.9757e-05, -4.1754e-05,  3.9554e-04, -1.3689e-05, -6.2113e-05,\n",
            "         9.0702e-05,  8.2408e-04, -4.7646e-05,  4.7410e-04,  1.5867e-03,\n",
            "         2.7187e-04, -3.2253e-05,  5.1163e-02, -2.2408e-04,  1.8449e-04,\n",
            "        -5.7355e-05, -8.5024e-05, -6.3057e-04, -2.4745e-05, -4.9560e-04,\n",
            "        -1.9706e-04,  2.3433e-05,  8.5660e-05, -2.6635e-04, -3.1391e-04,\n",
            "         1.0728e-03,  1.3963e-04, -1.2408e-05, -5.1493e-05,  2.3931e-04,\n",
            "        -6.3554e-04, -1.6748e-05, -5.7556e-05, -8.3183e-05,  3.6112e-04,\n",
            "        -3.1374e-04, -7.6745e-05, -3.4292e-05,  3.9488e-04, -8.3485e-05,\n",
            "         9.4188e-05,  3.6739e-04, -2.3933e-04, -4.5304e-04, -1.6586e-04,\n",
            "        -5.0392e-05,  1.0595e-04,  1.9158e-04,  2.0125e-04,  2.5889e-04,\n",
            "         1.3525e-04,  1.4168e-04,  1.9707e-04, -2.4208e-04,  2.7192e-02,\n",
            "         4.3639e-04,  1.5111e-04,  1.1167e-04,  2.4015e-04,  1.8295e-03,\n",
            "        -3.3724e-05, -1.4339e-04,  2.3550e-04, -3.6375e-04,  5.0569e-02,\n",
            "        -5.2585e-05,  2.2923e-05, -1.7776e-04, -1.2421e-05,  4.0125e-05,\n",
            "        -4.1522e-05, -1.4245e-04,  2.9612e-04, -8.7789e-06, -4.7926e-04,\n",
            "         1.8421e-04,  2.0651e-04,  6.3061e-04, -1.5174e-04,  3.0319e-06,\n",
            "         1.7755e-04, -1.8029e-05,  3.1870e-04, -3.9424e-04, -7.6946e-05,\n",
            "         6.1097e-04, -1.1417e-04,  1.1849e-04,  1.3396e-03,  1.0961e-03,\n",
            "         4.2475e-04, -1.8021e-04,  1.9197e-04,  2.7678e-04,  1.4277e-04,\n",
            "         5.6774e-04,  2.7831e-05,  1.5273e-04,  5.2794e-05,  1.7126e-04,\n",
            "         5.0141e-04, -7.0907e-05,  3.9296e-02, -1.6541e-04, -1.1600e-04,\n",
            "         3.1706e-04,  4.6191e-05, -8.9513e-05, -1.6857e-05, -1.6009e-04,\n",
            "         9.2210e-05,  1.0808e-04,  2.4575e-06,  2.0569e-04,  2.9185e-04,\n",
            "        -1.5577e-04,  2.1045e-05,  6.4847e-04, -1.9896e-04, -1.4619e-03,\n",
            "        -4.8601e-05,  1.1926e-04,  1.0819e-04,  4.5776e-02, -1.0373e-04,\n",
            "        -9.6529e-05, -9.1029e-05,  1.1543e-04,  1.7213e-04, -2.8848e-04,\n",
            "         4.7237e-04,  1.2530e-04,  1.4747e-04,  4.7028e-04,  1.3690e-04,\n",
            "         3.0067e-04,  2.7226e-04,  7.5703e-05, -7.7109e-04, -1.3815e-04,\n",
            "         6.6103e-04,  3.2591e-04, -3.5012e-05, -1.0902e-04, -6.8479e-05,\n",
            "        -6.3768e-06,  1.5914e-05,  2.8272e-05, -1.6003e-04,  4.0866e-04,\n",
            "         3.6563e-05, -2.9264e-04,  3.6648e-05,  5.5351e-05,  3.0802e-04,\n",
            "         5.6408e-04, -2.5494e-05,  6.0607e-04, -1.0217e-04,  1.1295e-04,\n",
            "         5.2677e-05,  6.9859e-05,  3.5665e-04,  2.1917e-05,  7.2869e-06,\n",
            "         2.8812e-04,  8.7883e-05, -2.7223e-06, -2.1221e-04, -1.3247e-03,\n",
            "         1.0505e-04], device='cuda:0', requires_grad=True)\n"
          ]
        }
      ]
    },
    {
      "cell_type": "code",
      "source": [
        "def sparsify(weights, threshold=0.0001):\n",
        "  '''\n",
        "  @weights: all weights of a layer\n",
        "  @threshold: all absolute values of weights below this threshold are zero\n",
        "  @return: weights where dead weights are zero\n",
        "  '''\n",
        "  w = weights.cpu()\n",
        "  res = w.where(w.abs() > torch.tensor(threshold).cpu(), torch.tensor(0.).cpu())\n",
        "  return res\n",
        "\n",
        "def percentage_waste(layer, threshold=0.0001):\n",
        "  w = layer.weight\n",
        "  sparsified_w = sparsify(w, threshold)\n",
        "  if sparsified_w.max() == 0:\n",
        "    return 1.\n",
        "  non_sparse_w = torch.nonzero(sparsified_w)\n",
        "\n",
        "  return 1-(non_sparse_w.numel()/(w.numel()+1e-10))"
      ],
      "metadata": {
        "id": "z35IZ2S7Gms1"
      },
      "execution_count": null,
      "outputs": []
    },
    {
      "cell_type": "code",
      "source": [
        "i = 0\n",
        "for module in net.modules():\n",
        "   if isinstance(module, nn.Sequential):    \n",
        "    print(sparsify(module[2].weight))\n",
        "    i += 1\n",
        "    if i == 2:\n",
        "      break"
      ],
      "metadata": {
        "colab": {
          "base_uri": "https://localhost:8080/"
        },
        "id": "AhOG7xRTAW2F",
        "outputId": "e249176f-9254-4ec6-bd0d-5e9bea352ef3"
      },
      "execution_count": null,
      "outputs": [
        {
          "output_type": "stream",
          "name": "stdout",
          "text": [
            "tensor([ 0.0140,  0.0358,  0.0089,  0.0170,  0.0016, -0.0008,  0.0249,  0.0017,\n",
            "         0.0362, -0.0021,  0.0019,  0.0000,  0.0219,  0.0164,  0.0394, -0.0002,\n",
            "         0.0239,  0.0008,  0.0217,  0.0014,  0.0008,  0.0276,  0.0309,  0.0071,\n",
            "        -0.0001,  0.0136,  0.0005,  0.0008,  0.0270,  0.0143,  0.0077,  0.0236],\n",
            "       grad_fn=<SWhereBackward0>)\n",
            "tensor([-0.0011,  0.0006,  0.0004,  0.0002,  0.0016,  0.0034,  0.0090,  0.0000,\n",
            "         0.0002,  0.0110,  0.0195,  0.0000, -0.0009,  0.0011,  0.0024, -0.0003,\n",
            "         0.0001,  0.0000, -0.0010,  0.0137, -0.0028,  0.0000,  0.0001,  0.0056,\n",
            "         0.0066,  0.0138,  0.0000,  0.0130, -0.0003, -0.0006,  0.0000,  0.0154,\n",
            "         0.0005,  0.0002,  0.0149,  0.0004,  0.0000,  0.0076, -0.0001, -0.0019,\n",
            "         0.0000,  0.0106,  0.0111,  0.0002,  0.0020, -0.0015,  0.0082,  0.0074,\n",
            "         0.0033,  0.0000,  0.0123, -0.0150,  0.0167, -0.0001,  0.0091, -0.0034,\n",
            "        -0.0003, -0.0006,  0.0123, -0.0011,  0.0009, -0.0019,  0.0000,  0.0067],\n",
            "       grad_fn=<SWhereBackward0>)\n"
          ]
        }
      ]
    },
    {
      "cell_type": "code",
      "source": [
        "for module in net.modules():\n",
        "   if isinstance(module, nn.Sequential):\n",
        "    print(percentage_waste(module[2]))"
      ],
      "metadata": {
        "colab": {
          "base_uri": "https://localhost:8080/"
        },
        "id": "ABIpNd4f_-QW",
        "outputId": "7f06751c-c930-40c5-e0ba-c06481a50a5f"
      },
      "execution_count": null,
      "outputs": [
        {
          "output_type": "stream",
          "name": "stdout",
          "text": [
            "0.031250000003027356\n",
            "0.1562500000013184\n",
            "0.36718750000049427\n",
            "0.3476562500002548\n",
            "0.36718750000024714\n"
          ]
        }
      ]
    },
    {
      "cell_type": "code",
      "source": [
        "weights = []\n",
        "\n",
        "for module in net.modules():\n",
        "  if isinstance(module, nn.Sequential):\n",
        "    for x in module[2].weight:\n",
        "      weights.append(x.detach().cpu().numpy())"
      ],
      "metadata": {
        "id": "PWMK_tYgLqZc"
      },
      "execution_count": null,
      "outputs": []
    },
    {
      "cell_type": "code",
      "source": [
        "weights = np.vstack(weights)"
      ],
      "metadata": {
        "id": "phKN4zXnMjGe"
      },
      "execution_count": null,
      "outputs": []
    },
    {
      "cell_type": "code",
      "source": [
        "np.min(weights)"
      ],
      "metadata": {
        "colab": {
          "base_uri": "https://localhost:8080/"
        },
        "id": "wOZGUIOPBBdJ",
        "outputId": "eb1eaded-5c99-49cd-b501-b4592caff004"
      },
      "execution_count": null,
      "outputs": [
        {
          "output_type": "execute_result",
          "data": {
            "text/plain": [
              "0.4295117"
            ]
          },
          "metadata": {},
          "execution_count": 54
        }
      ]
    },
    {
      "cell_type": "code",
      "source": [
        "def new_layers_in_percentage(model, threshold=0.0001):\n",
        "  ''' Returns the new layer sizes in percentage'''\n",
        "  len = 0\n",
        "  for module in model.modules():\n",
        "    if isinstance(module, nn.Sequential):\n",
        "      len += 1\n",
        "  layer_reduction = np.zeros(len)\n",
        "  i = 0\n",
        "  for module in model.modules():\n",
        "    if isinstance(module, nn.Sequential):\n",
        "      layer_reduction[i] = 1. - percentage_waste(module[2], threshold)\n",
        "      i += 1\n",
        "  return layer_reduction\n"
      ],
      "metadata": {
        "id": "YpLCRct2P0_q"
      },
      "execution_count": null,
      "outputs": []
    },
    {
      "cell_type": "code",
      "source": [
        "new_layers_in_percentage(net)"
      ],
      "metadata": {
        "colab": {
          "base_uri": "https://localhost:8080/"
        },
        "id": "dhCj1h79P3Ka",
        "outputId": "42cc1a73-a737-44f3-a659-d61848ec158b"
      },
      "execution_count": null,
      "outputs": [
        {
          "output_type": "execute_result",
          "data": {
            "text/plain": [
              "array([0.9375  , 0.96875 , 0.984375])"
            ]
          },
          "metadata": {},
          "execution_count": 51
        }
      ]
    },
    {
      "cell_type": "code",
      "source": [
        "#np.histogram(weights)\n",
        "plt.hist(np.abs(weights), bins=np.arange(0, 0.05, 0.001)) \n",
        "plt.axvline(0.001, color=\"red\")\n",
        "plt.show()"
      ],
      "metadata": {
        "colab": {
          "base_uri": "https://localhost:8080/",
          "height": 265
        },
        "id": "TlZ4-W0CMKVv",
        "outputId": "d5baeb0c-6e27-44db-c547-1b72fe2d4f40"
      },
      "execution_count": null,
      "outputs": [
        {
          "output_type": "display_data",
          "data": {
            "image/png": "[encoded data removed]",
            "text/plain": [
              "<Figure size 432x288 with 1 Axes>"
            ]
          },
          "metadata": {
            "needs_background": "light"
          }
        }
      ]
    },
    {
      "cell_type": "code",
      "source": [
        "len(np.where(weights < 0.001)[0])"
      ],
      "metadata": {
        "id": "Gdz9d1udYzB4",
        "colab": {
          "base_uri": "https://localhost:8080/"
        },
        "outputId": "dc97a449-30e1-4c87-c241-b01149e3d6dd"
      },
      "execution_count": null,
      "outputs": [
        {
          "output_type": "execute_result",
          "data": {
            "text/plain": [
              "708"
            ]
          },
          "metadata": {},
          "execution_count": 74
        }
      ]
    },
    {
      "cell_type": "code",
      "source": [
        "len(weights)"
      ],
      "metadata": {
        "colab": {
          "base_uri": "https://localhost:8080/"
        },
        "id": "kFMVQvSQzi8r",
        "outputId": "056bcfe3-94f6-4a78-811e-48007e52d213"
      },
      "execution_count": null,
      "outputs": [
        {
          "output_type": "execute_result",
          "data": {
            "text/plain": [
              "864"
            ]
          },
          "metadata": {},
          "execution_count": 75
        }
      ]
    },
    {
      "cell_type": "code",
      "source": [
        "len(np.where(weights > 0.001)[0])"
      ],
      "metadata": {
        "colab": {
          "base_uri": "https://localhost:8080/"
        },
        "id": "nQt_yR4Yz70q",
        "outputId": "bb73bf52-47b1-44ff-cac2-2541ae4501cb"
      },
      "execution_count": null,
      "outputs": [
        {
          "output_type": "execute_result",
          "data": {
            "text/plain": [
              "156"
            ]
          },
          "metadata": {},
          "execution_count": 77
        }
      ]
    }
  ]
}